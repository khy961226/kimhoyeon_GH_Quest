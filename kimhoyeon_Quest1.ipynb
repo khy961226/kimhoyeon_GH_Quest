print("hello, I'm hoyeon!")
